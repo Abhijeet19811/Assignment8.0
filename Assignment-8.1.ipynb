{
 "cells": [
  {
   "cell_type": "code",
   "execution_count": 16,
   "metadata": {},
   "outputs": [
    {
     "name": "stdout",
     "output_type": "stream",
     "text": [
      "3.2\n",
      "The probability by looking at z- table and p-value associated with z=3.20 is: 0.999312862062\n",
      "The probability of having value < 108 is 0.9993\n",
      "The probability of having value >= to 108 is 0.0007000000000000339\n",
      "As 0.0007 < 0.05 of assumed significance level we will reject the Null hypothesis i.e. there is raw cornstarch effect\n"
     ]
    }
   ],
   "source": [
    "#Problem Statement 1:\n",
    "\n",
    "# Here the population mean is 100\n",
    "# H0: μ= 100 & H1: μ > 100\n",
    "# Assuming significance leve as 5% i.e 0.05\n",
    "\n",
    "# Computing the random chance probability using z score and z-table\n",
    "\n",
    "import math \n",
    "import scipy.stats as st\n",
    "\n",
    "μ = 100\n",
    "sdev = 15\n",
    "x = 108 # Mean Glucose level\n",
    "z = (x-μ)/(sdev/math.sqrt(36))\n",
    "print(z)\n",
    "print('The probability by looking at z- table and p-value associated with z=3.20 is:', st.norm.cdf(z))\n",
    "print('The probability of having value < 108 is 0.9993')\n",
    "print('The probability of having value >= to 108 is', (1-0.9993))\n",
    "print('As 0.0007 < 0.05 of assumed significance level we will reject the Null hypothesis i.e. there is raw cornstarch effect')"
   ]
  },
  {
   "cell_type": "code",
   "execution_count": null,
   "metadata": {
    "collapsed": true
   },
   "outputs": [],
   "source": []
  }
 ],
 "metadata": {
  "kernelspec": {
   "display_name": "Python 3",
   "language": "python",
   "name": "python3"
  },
  "language_info": {
   "codemirror_mode": {
    "name": "ipython",
    "version": 3
   },
   "file_extension": ".py",
   "mimetype": "text/x-python",
   "name": "python",
   "nbconvert_exporter": "python",
   "pygments_lexer": "ipython3",
   "version": "3.6.3"
  }
 },
 "nbformat": 4,
 "nbformat_minor": 2
}
