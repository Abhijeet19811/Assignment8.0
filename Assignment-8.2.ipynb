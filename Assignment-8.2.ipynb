{
 "cells": [
  {
   "cell_type": "code",
   "execution_count": 12,
   "metadata": {},
   "outputs": [
    {
     "name": "stdout",
     "output_type": "stream",
     "text": [
      "Standard deviation of difference is: 0.07061869440877536\n",
      "Probabality -0.708215297450425\n",
      "probability that survey show greater % of Republican voters in second state than in first state is 0.23940578392\n"
     ]
    }
   ],
   "source": [
    "# Solution \n",
    "# n1P1 = 100 * 0.52 = 52, n1(1 - P1) = 100 * 0.48 = 48, \n",
    "# n2P2 = 100 * 0.47 = 47, n2(1 - P2) = 100 * 0.53 = 53 \n",
    "\n",
    "# mean of the difference in sample proportions: E(p1 - p2) = P1 - P2 = 0.52 - 0.47 = 0.05\n",
    "\n",
    "# standard deviation of the difference = σd = sqrt{ [ P1(1 - P1) / n1 ] + [ P2(1 - P2) / n2 ] } \n",
    "import math\n",
    "import scipy.stats as st\n",
    "sig = ((0.52*0.48)/ 100) + ((0.47*0.53)/100)\n",
    "sig = math.sqrt(0.004987)\n",
    "print('Standard deviation of difference is:',sig)\n",
    "# Probbaility is z p1 - p2 = (x - μ p1 - p2 ) / σd \n",
    "z = (0 - 0.05)/0.0706\n",
    "print('Probabality',z)\n",
    "print('probability that survey show greater % of Republican voters in second state than in first state is',st.norm.cdf(z))\n"
   ]
  },
  {
   "cell_type": "code",
   "execution_count": null,
   "metadata": {
    "collapsed": true
   },
   "outputs": [],
   "source": []
  }
 ],
 "metadata": {
  "kernelspec": {
   "display_name": "Python 3",
   "language": "python",
   "name": "python3"
  },
  "language_info": {
   "codemirror_mode": {
    "name": "ipython",
    "version": 3
   },
   "file_extension": ".py",
   "mimetype": "text/x-python",
   "name": "python",
   "nbconvert_exporter": "python",
   "pygments_lexer": "ipython3",
   "version": "3.6.3"
  }
 },
 "nbformat": 4,
 "nbformat_minor": 2
}
