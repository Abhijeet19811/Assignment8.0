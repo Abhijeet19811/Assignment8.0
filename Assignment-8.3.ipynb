{
 "cells": [
  {
   "cell_type": "code",
   "execution_count": 19,
   "metadata": {},
   "outputs": [
    {
     "name": "stdout",
     "output_type": "stream",
     "text": [
      "0.35406698564593303\n",
      "Score of SAT test compared to average test taker is 0.638355658435\n"
     ]
    }
   ],
   "source": [
    "# Problem Statement 1\n",
    "# You take the SAT and score 1100. The mean score for the SAT is 1026 and the standard deviation is 209.\n",
    "# How well did you score on the test compared to the average test taker?\n",
    "\n",
    "# Here x = 1100, Mean Score = μ = 1026, std deviation σ = 209\n",
    "# using the formula of z score equation z= x-μ /σ\n",
    "import scipy.stats as st\n",
    "z = (1100-1026)/209\n",
    "print(z)\n",
    "print('Score of SAT test compared to average test taker is',st.norm.cdf(z))"
   ]
  },
  {
   "cell_type": "code",
   "execution_count": null,
   "metadata": {
    "collapsed": true
   },
   "outputs": [],
   "source": []
  }
 ],
 "metadata": {
  "kernelspec": {
   "display_name": "Python 3",
   "language": "python",
   "name": "python3"
  },
  "language_info": {
   "codemirror_mode": {
    "name": "ipython",
    "version": 3
   },
   "file_extension": ".py",
   "mimetype": "text/x-python",
   "name": "python",
   "nbconvert_exporter": "python",
   "pygments_lexer": "ipython3",
   "version": "3.6.3"
  }
 },
 "nbformat": 4,
 "nbformat_minor": 2
}
